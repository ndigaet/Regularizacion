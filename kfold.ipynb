{
 "cells": [
  {
   "cell_type": "code",
   "execution_count": 2,
   "metadata": {},
   "outputs": [],
   "source": [
    "from sklearn.linear_model import LogisticRegression\n",
    "from sklearn.model_selection import StratifiedKFold\n",
    "from reg_helper import get_polynimial_set"
   ]
  },
  {
   "cell_type": "code",
   "execution_count": 3,
   "metadata": {},
   "outputs": [],
   "source": [
    "import numpy as np\n",
    "import draw_nn\n",
    "from matplotlib import pyplot as plt \n",
    "folder = 'data/'\n",
    "X_train = np.load(folder+'X_train.npy')\n",
    "X_test = np.load(folder+'X_test.npy')\n",
    "y_train = np.load(folder+'y_train.npy') \n",
    "y_test = np.load(folder+'y_test.npy')\n",
    "X = np.vstack([X_train, X_test])\n",
    "X = get_polynimial_set(X, degree=3)\n",
    "y = np.hstack([y_train, y_test])"
   ]
  },
  {
   "cell_type": "code",
   "execution_count": 4,
   "metadata": {},
   "outputs": [
    {
     "data": {
      "text/plain": [
       "((118, 10), (118,))"
      ]
     },
     "execution_count": 4,
     "metadata": {},
     "output_type": "execute_result"
    }
   ],
   "source": [
    "X.shape, y.shape"
   ]
  },
  {
   "cell_type": "code",
   "execution_count": 5,
   "metadata": {},
   "outputs": [
    {
     "data": {
      "text/plain": [
       "5"
      ]
     },
     "execution_count": 5,
     "metadata": {},
     "output_type": "execute_result"
    }
   ],
   "source": [
    "skf = StratifiedKFold(n_splits=5)\n",
    "skf.get_n_splits(X, y)"
   ]
  },
  {
   "cell_type": "code",
   "execution_count": 41,
   "metadata": {},
   "outputs": [
    {
     "name": "stdout",
     "output_type": "stream",
     "text": [
      "[0.79166667 0.75       0.79166667 0.86956522 0.7826087 ]\n",
      "0.7971014492753622\n",
      "[0.34083236286817403, 0.6139110969993298, 0.7513188813437645, 0.5976988307091297, 0.4884303181724169, 0.7047872018753878, 0.471337883451224, 0.66708993308936, 0.5840092829476468, 0.28376755263859976, 0.5485460702990836, 0.5517401793897075, 0.5374030610420062, 0.3082299210021607, 0.6535871580640357, 0.46853803553525936, 0.354618422550494, 0.5315994335647353, 0.6882504982393889, 0.3653364409537367, 0.6137778824041187, 0.3314967176299504, 0.3800246306541972, 0.43253636425561887, 0.6165640534247435, 0.5997154221152678, 0.6329382188465849, 0.49985690401410365, 0.5995840155635801, 0.4357849881441438, 0.4698062432926537, 0.43628119648356806, 0.5207221161343002, 0.39198758479553086, 0.28457692414070673, 0.5211183774906393, 0.5266328353680301, 0.5128484801121912, 0.6850559361501565, 0.5055790436513361, 0.28519416724815344, 0.5982393537684904, 0.49100529645408486, 0.3291110651141861, 0.570696114437936, 0.31765236646818706, 0.4675778710168572, 0.4822275539697317, 0.6765573053907593, 0.5079382006159947, 0.6162382826752407, 0.650503184532207, 0.6832289702815149, 0.5766579943659333, 0.5521975523893704, 0.289120456305831, 0.4996949037152169, 0.640475085213702, 0.6679168898408228, 0.42995987978464156, 0.712523644097707, 0.5350532161456205, 0.3403426388092879, 0.35035763552098, 0.3573578263162098, 0.5808476574397465, 0.5186910156914167, 0.40030519051298885, 0.22675295502517862, 0.17165361490782177, 0.4012657141902752, 0.34995778249823967, 0.45988183480582323, 0.5923101034146615, 0.7100202155526096, 0.6137573021824979, 0.1687160509588269, 0.2644448880365154, 0.28580865045314824, 0.42217516420277346, 0.5013423143710976, 0.49049231927656606, 0.3916750866592096, 0.3602428679034284, 0.19260122626235404, 0.6947443693723039, 0.5616437125518478, 0.4761555270147011, 0.5802551966974842, 0.6805286186856476, 0.5365156702547514, 0.3295099553136705, 0.5098085743387779, 0.7228589267352671, 0.6260289171189353, 0.39424987907103193, 0.3215661318253687, 0.7118488927996642, 0.5493777213774932, 0.5774428235711044, 0.36965258021279446, 0.6306216629073029, 0.3578103313191683, 0.6113936551948378, 0.42796633146629176, 0.5493899346650155, 0.20381607560511722, 0.6745995171015219, 0.6406357868743771, 0.2601680412958966, 0.4700524354759947, 0.5115149782351711, 0.6805294066698911, 0.5018431772675384, 0.42553764790129367, 0.5830620298601594, 0.5618654174078072, 0.6352759267847794]\n"
     ]
    }
   ],
   "source": [
    "scores = []\n",
    "predictions = []\n",
    "for train_index, test_index in skf.split(X, y):\n",
    "    X_train, X_test = X[train_index], X[test_index]\n",
    "    y_train, y_test = y[train_index], y[test_index]\n",
    "    clf = LogisticRegression()\n",
    "    clf.fit(X_train, y_train)\n",
    "    scores.append(clf.score(X_test, y_test))\n",
    "    predictions = predictions + list(clf.predict_proba(X_test)[:,1])\n",
    "scores = np.array(scores)\n",
    "print(scores)\n",
    "print(scores.mean())\n",
    "print(predictions)"
   ]
  },
  {
   "cell_type": "code",
   "execution_count": 37,
   "metadata": {},
   "outputs": [
    {
     "data": {
      "text/plain": [
       "118"
      ]
     },
     "execution_count": 37,
     "metadata": {},
     "output_type": "execute_result"
    }
   ],
   "source": [
    "len(predictions)"
   ]
  },
  {
   "cell_type": "code",
   "execution_count": null,
   "metadata": {},
   "outputs": [],
   "source": []
  }
 ],
 "metadata": {
  "kernelspec": {
   "display_name": "Python 3",
   "language": "python",
   "name": "python3"
  },
  "language_info": {
   "codemirror_mode": {
    "name": "ipython",
    "version": 3
   },
   "file_extension": ".py",
   "mimetype": "text/x-python",
   "name": "python",
   "nbconvert_exporter": "python",
   "pygments_lexer": "ipython3",
   "version": "3.6.12"
  }
 },
 "nbformat": 4,
 "nbformat_minor": 4
}
